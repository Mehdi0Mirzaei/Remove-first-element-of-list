{
 "cells": [
  {
   "cell_type": "code",
   "execution_count": 45,
   "id": "815cdd93",
   "metadata": {},
   "outputs": [],
   "source": [
    "def remove_first_ele(lst):\n",
    "    lst1=[]\n",
    "    one=lst[0]\n",
    "    for element in lst:\n",
    "        if element == one:\n",
    "            del element\n",
    "        else:\n",
    "            lst1.append(element)\n",
    "    return lst1"
   ]
  },
  {
   "cell_type": "code",
   "execution_count": 46,
   "id": "c80a7e05",
   "metadata": {},
   "outputs": [
    {
     "data": {
      "text/plain": [
       "[2, 3, 4, 5, 6, 7]"
      ]
     },
     "execution_count": 46,
     "metadata": {},
     "output_type": "execute_result"
    }
   ],
   "source": [
    "remove_first_ele([1,2,3,4,5,6,7])"
   ]
  },
  {
   "cell_type": "code",
   "execution_count": 47,
   "id": "47ac90dc",
   "metadata": {},
   "outputs": [],
   "source": [
    "def rem_ele(lst):\n",
    "    print(\"Original list is : \" + str(test_list))\n",
    " # using pop(0) to perform removal\n",
    "    test_list.pop(0)\n",
    " # Printing modified list\n",
    "    print(\"Modified list is : \" + str(test_list))"
   ]
  },
  {
   "cell_type": "code",
   "execution_count": 48,
   "id": "95c8c734",
   "metadata": {},
   "outputs": [
    {
     "name": "stdout",
     "output_type": "stream",
     "text": [
      "Original list is : [1, 2, 3, 4, 5, 6, 7]\n",
      "Modified list is : [2, 3, 4, 5, 6, 7]\n"
     ]
    }
   ],
   "source": [
    "rem_ele([1,2,3,4,5,6,7])"
   ]
  },
  {
   "cell_type": "code",
   "execution_count": 53,
   "id": "49023107",
   "metadata": {},
   "outputs": [],
   "source": [
    "def rem_ele2(mylist):\n",
    "    print(\"Original list is : \" + str(mylist))\n",
    "\n",
    "    # using del list[0] to perform removal\n",
    "    del mylist[0]\n",
    "\n",
    "    # Printing modified list\n",
    "    print(\"Modified list is : \" + str(mylist))"
   ]
  },
  {
   "cell_type": "code",
   "execution_count": 54,
   "id": "a0712c08",
   "metadata": {},
   "outputs": [
    {
     "name": "stdout",
     "output_type": "stream",
     "text": [
      "Original list is : [1, 2, 3, 4, 5, 6, 7]\n",
      "Modified list is : [2, 3, 4, 5, 6, 7]\n"
     ]
    }
   ],
   "source": [
    "rem_ele2([1, 2, 3, 4, 5, 6, 7])"
   ]
  },
  {
   "cell_type": "code",
   "execution_count": 55,
   "id": "c0d55ac6",
   "metadata": {},
   "outputs": [
    {
     "name": "stdout",
     "output_type": "stream",
     "text": [
      "Original list is : [1, 2, 3, 4, 5, 6, 7]\n",
      "Modified list is : [2, 3, 4, 5, 6, 7]\n"
     ]
    }
   ],
   "source": [
    "test_list= [1, 2, 3, 4, 5, 6, 7]\n",
    "print(\"Original list is : \" + str(test_list))\n",
    " \n",
    "# using slicing to perform removal\n",
    "res = test_list[1:]\n",
    " \n",
    "# Printing modified list\n",
    "print(\"Modified list is : \" + str(res))"
   ]
  },
  {
   "cell_type": "code",
   "execution_count": 56,
   "id": "a9a5d239",
   "metadata": {},
   "outputs": [
    {
     "name": "stdout",
     "output_type": "stream",
     "text": [
      "Original list is : [1, 2, 3, 4, 5, 6, 7]\n",
      "Modified list is : [2, 3, 4, 5, 6, 7]\n"
     ]
    }
   ],
   "source": [
    "test_list= [1, 2, 3, 4, 5, 6, 7]\n",
    "print(\"Original list is : \" + str(test_list))\n",
    " \n",
    "# Remove first element from list in python\n",
    "test_list.remove(test_list[0])\n",
    " \n",
    "# Printing modified list\n",
    "print(\"Modified list is : \" + str(test_list))"
   ]
  },
  {
   "cell_type": "code",
   "execution_count": 57,
   "id": "e25c35cc",
   "metadata": {},
   "outputs": [
    {
     "name": "stdout",
     "output_type": "stream",
     "text": [
      "Modified list is : [2, 3, 4, 5, 6, 7]\n"
     ]
    }
   ],
   "source": [
    "test_list= [1, 2, 3, 4, 5, 6, 7]\n",
    "# remove first element using list comprehension\n",
    "new_list = [x for x in test_list[1:]]\n",
    " \n",
    "# print the new list\n",
    "print(\"Modified list is : \" + str(new_list))"
   ]
  },
  {
   "cell_type": "code",
   "execution_count": 58,
   "id": "9dffad1f",
   "metadata": {},
   "outputs": [
    {
     "name": "stdout",
     "output_type": "stream",
     "text": [
      "Original list is : [1, 2, 3, 4, 5, 6, 7]\n",
      "Modified list is : [2, 3, 4, 5, 6, 7]\n"
     ]
    }
   ],
   "source": [
    "import numpy as np\n",
    " \n",
    "# initializing list\n",
    "test_list = [1, 2, 3, 4, 5, 6, 7]\n",
    " \n",
    "# Printing original list\n",
    "print(\"Original list is : \" + str(test_list))\n",
    " \n",
    "# Convert list to numpy array\n",
    "np_array = np.array(test_list)\n",
    " \n",
    "# Use numpy.delete() to remove first element\n",
    "modified_np_array = np.delete(np_array, 0)\n",
    " \n",
    "# Convert numpy array back to list\n",
    "modified_list = modified_np_array.tolist()\n",
    " \n",
    "# Printing modified list\n",
    "print(\"Modified list is : \" + str(modified_list))"
   ]
  },
  {
   "cell_type": "code",
   "execution_count": null,
   "id": "1a695e56",
   "metadata": {},
   "outputs": [],
   "source": []
  }
 ],
 "metadata": {
  "kernelspec": {
   "display_name": "Python 3 (ipykernel)",
   "language": "python",
   "name": "python3"
  },
  "language_info": {
   "codemirror_mode": {
    "name": "ipython",
    "version": 3
   },
   "file_extension": ".py",
   "mimetype": "text/x-python",
   "name": "python",
   "nbconvert_exporter": "python",
   "pygments_lexer": "ipython3",
   "version": "3.9.13"
  }
 },
 "nbformat": 4,
 "nbformat_minor": 5
}
